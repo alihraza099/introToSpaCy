{
 "cells": [
  {
   "cell_type": "code",
   "execution_count": 71,
   "metadata": {},
   "outputs": [],
   "source": [
    "import spacy\n",
    "import pandas as pd"
   ]
  },
  {
   "cell_type": "code",
   "execution_count": 72,
   "metadata": {},
   "outputs": [],
   "source": [
    "nlp = spacy.load('en_core_web_sm')"
   ]
  },
  {
   "cell_type": "code",
   "execution_count": 73,
   "metadata": {},
   "outputs": [
    {
     "data": {
      "text/plain": [
       "'WHAT IS EARS?The Easy Approach to Requirements Syntax (EARS) is a mechanism to gently constrain textual requirements. The EARS patterns provide structured guidance that enable authors to write high quality textual requirements.There is a set syntax (structure), with an underlying ruleset. A small number of keywords are used to denote the different clauses of an EARS requirement. The clauses are always in the same order, following temporal logic. The syntax and the keywords closely match common usage of English and are therefore intuitive.HOW WAS EARS DEVELOPED?Mav and colleagues at Rolls-Royce PLC developed EARS whilst analysing the airworthiness regulations for a jet engine’s control system. The regulations contained high level objectives, a mixture of implicit and explicit requirements at different levels, lists, guidelines and supporting information.\\nIn the process of extracting and simplifying the requirements, Mav noticed that the requirements all followed a similar structure. He found that requirements were easiest to read when the clauses always appeared in the same order. These patterns were refined and evolved to create EARS.\\n\\nThe notation was first published in 2009 and has been adopted by many organisations across the world.\\n\\nWHY USE EARS?\\nSystem requirements are usually written in unconstrained natural language (NL), which is inherently imprecise. Often, requirements authors are not trained in how to write requirements. During system development, requirements problems propagate to lower levels. This creates unnecessary volatility and risk, impacting programme schedule and cost.\\n\\nEARS reduces or even eliminates common problems found in natural language requirements. It is especially effective for requirements authors who must write requirements in English, but whose first language is not English. EARS has proved popular with practitioners because it is lightweight, there is little training overhead, no specialist tool is necessary, and the resultant requirements are easy to read.\\n\\nWHO USES EARS?\\nEARS is used worldwide by large and small organisations in different domains. These include blue chip companies such as Airbus, Bosch,  Dyson, Honeywell, Intel, NASA, Rolls-Royce and Siemens.\\n\\nThe notation is taught at universities around the world including in China, France, Germany, Sweden, UK and USA.\\n\\nTHE EARS PATTERNS\\nGeneric EARS syntax\\nThe clauses of a requirement written in EARS always appear in the same order. The basic structure of an EARS requirement is:\\n\\nWhile <optional pre-condition>, when <optional trigger>, the <system name> shall <system response>\\n\\nThe EARS ruleset states that a requirement must have: Zero or many preconditions; Zero or one trigger; One system name; One or many system responses.\\n\\nThe application of the EARS notation produces requirements in a small number of patterns, depending on the clauses that are used. The patterns are illustrated below.\\n\\nUbiquitous requirements\\nUbiquitous requirements are always active (so there is no EARS keyword)\\n\\nThe <system name> shall <system response>\\n\\nExample: The mobile phone shall have a mass of less than XX grams.\\n\\nState driven requirements\\nState driven requirements are active as long as the specified state remains true and are denoted by the keyword While.\\n\\nWhile <precondition(s)>, the <system name> shall <system response>\\n\\nExample: While there is no card in the ATM, the ATM shall display “insert card to begin”.\\n\\nEvent driven requirements\\nEvent driven requirements specify how a system must respond when a triggering event occurs and are denoted by the keyword When.\\n\\nWhen <trigger>, the <system name> shall <system response>\\nExample: When “mute” is selected, the laptop shall suppress all audio output.\\nOptional feature requirements\\nOptional feature requirements apply in products or systems that include the specified feature and are denoted by the keyword Where.\\nWhere <feature is included>, the <system name> shall <system response>\\nExample: Where the car has a sunroof, the car shall have a sunroof control panel on the driver door.\\nUnwanted behaviour requirements\\nUnwanted behaviour requirements are used to specify the required system response to undesired situations and are denoted by the keywords If and Then.\\nIf <trigger>, then the <system name> shall <system response>\\n\\nExample: If an invalid credit card number is entered, then the website shall display “please re-enter credit card details”.\\n\\nComplex requirements\\nThe simple building blocks of the EARS patterns described above can be combined to specify requirements for richer system behaviour. Requirements that include more than one EARS keyword are called Complex requirements.\\n\\nWhile <precondition(s)>, When <trigger>, the <system name> shall <system response>\\n\\nExample: While the aircraft is on ground, when reverse thrust is commanded, the engine control system shall enable reverse thrust.\\n\\nComplex requirements for unwanted behaviour also include the If-Then keywords.'"
      ]
     },
     "execution_count": 73,
     "metadata": {},
     "output_type": "execute_result"
    }
   ],
   "source": [
    "with open('./data.txt', 'r', encoding='utf-8') as file:\n",
    "    text = file.read()\n",
    "text"
   ]
  },
  {
   "cell_type": "code",
   "execution_count": 74,
   "metadata": {},
   "outputs": [
    {
     "data": {
      "text/plain": [
       "WHAT IS EARS?The Easy Approach to Requirements Syntax (EARS) is a mechanism to gently constrain textual requirements. The EARS patterns provide structured guidance that enable authors to write high quality textual requirements.There is a set syntax (structure), with an underlying ruleset. A small number of keywords are used to denote the different clauses of an EARS requirement. The clauses are always in the same order, following temporal logic. The syntax and the keywords closely match common usage of English and are therefore intuitive.HOW WAS EARS DEVELOPED?Mav and colleagues at Rolls-Royce PLC developed EARS whilst analysing the airworthiness regulations for a jet engine’s control system. The regulations contained high level objectives, a mixture of implicit and explicit requirements at different levels, lists, guidelines and supporting information.\n",
       "In the process of extracting and simplifying the requirements, Mav noticed that the requirements all followed a similar structure. He found that requirements were easiest to read when the clauses always appeared in the same order. These patterns were refined and evolved to create EARS.\n",
       "\n",
       "The notation was first published in 2009 and has been adopted by many organisations across the world.\n",
       "\n",
       "WHY USE EARS?\n",
       "System requirements are usually written in unconstrained natural language (NL), which is inherently imprecise. Often, requirements authors are not trained in how to write requirements. During system development, requirements problems propagate to lower levels. This creates unnecessary volatility and risk, impacting programme schedule and cost.\n",
       "\n",
       "EARS reduces or even eliminates common problems found in natural language requirements. It is especially effective for requirements authors who must write requirements in English, but whose first language is not English. EARS has proved popular with practitioners because it is lightweight, there is little training overhead, no specialist tool is necessary, and the resultant requirements are easy to read.\n",
       "\n",
       "WHO USES EARS?\n",
       "EARS is used worldwide by large and small organisations in different domains. These include blue chip companies such as Airbus, Bosch,  Dyson, Honeywell, Intel, NASA, Rolls-Royce and Siemens.\n",
       "\n",
       "The notation is taught at universities around the world including in China, France, Germany, Sweden, UK and USA.\n",
       "\n",
       "THE EARS PATTERNS\n",
       "Generic EARS syntax\n",
       "The clauses of a requirement written in EARS always appear in the same order. The basic structure of an EARS requirement is:\n",
       "\n",
       "While <optional pre-condition>, when <optional trigger>, the <system name> shall <system response>\n",
       "\n",
       "The EARS ruleset states that a requirement must have: Zero or many preconditions; Zero or one trigger; One system name; One or many system responses.\n",
       "\n",
       "The application of the EARS notation produces requirements in a small number of patterns, depending on the clauses that are used. The patterns are illustrated below.\n",
       "\n",
       "Ubiquitous requirements\n",
       "Ubiquitous requirements are always active (so there is no EARS keyword)\n",
       "\n",
       "The <system name> shall <system response>\n",
       "\n",
       "Example: The mobile phone shall have a mass of less than XX grams.\n",
       "\n",
       "State driven requirements\n",
       "State driven requirements are active as long as the specified state remains true and are denoted by the keyword While.\n",
       "\n",
       "While <precondition(s)>, the <system name> shall <system response>\n",
       "\n",
       "Example: While there is no card in the ATM, the ATM shall display “insert card to begin”.\n",
       "\n",
       "Event driven requirements\n",
       "Event driven requirements specify how a system must respond when a triggering event occurs and are denoted by the keyword When.\n",
       "\n",
       "When <trigger>, the <system name> shall <system response>\n",
       "Example: When “mute” is selected, the laptop shall suppress all audio output.\n",
       "Optional feature requirements\n",
       "Optional feature requirements apply in products or systems that include the specified feature and are denoted by the keyword Where.\n",
       "Where <feature is included>, the <system name> shall <system response>\n",
       "Example: Where the car has a sunroof, the car shall have a sunroof control panel on the driver door.\n",
       "Unwanted behaviour requirements\n",
       "Unwanted behaviour requirements are used to specify the required system response to undesired situations and are denoted by the keywords If and Then.\n",
       "If <trigger>, then the <system name> shall <system response>\n",
       "\n",
       "Example: If an invalid credit card number is entered, then the website shall display “please re-enter credit card details”.\n",
       "\n",
       "Complex requirements\n",
       "The simple building blocks of the EARS patterns described above can be combined to specify requirements for richer system behaviour. Requirements that include more than one EARS keyword are called Complex requirements.\n",
       "\n",
       "While <precondition(s)>, When <trigger>, the <system name> shall <system response>\n",
       "\n",
       "Example: While the aircraft is on ground, when reverse thrust is commanded, the engine control system shall enable reverse thrust.\n",
       "\n",
       "Complex requirements for unwanted behaviour also include the If-Then keywords."
      ]
     },
     "execution_count": 74,
     "metadata": {},
     "output_type": "execute_result"
    }
   ],
   "source": [
    "doc = nlp(text)\n",
    "doc"
   ]
  },
  {
   "cell_type": "code",
   "execution_count": 75,
   "metadata": {},
   "outputs": [
    {
     "data": {
      "text/plain": [
       "4973"
      ]
     },
     "execution_count": 75,
     "metadata": {},
     "output_type": "execute_result"
    }
   ],
   "source": [
    "len(text)"
   ]
  },
  {
   "cell_type": "code",
   "execution_count": 76,
   "metadata": {},
   "outputs": [
    {
     "data": {
      "text/plain": [
       "943"
      ]
     },
     "execution_count": 76,
     "metadata": {},
     "output_type": "execute_result"
    }
   ],
   "source": [
    "len(doc)"
   ]
  },
  {
   "cell_type": "code",
   "execution_count": 77,
   "metadata": {},
   "outputs": [
    {
     "name": "stdout",
     "output_type": "stream",
     "text": [
      "WHAT\n",
      "IS\n",
      "EARS?The\n",
      "Easy\n",
      "Approach\n",
      "to\n",
      "Requirements\n",
      "Syntax\n",
      "(\n",
      "EARS\n"
     ]
    }
   ],
   "source": [
    "for token in doc[:10]:\n",
    "    print(token)"
   ]
  },
  {
   "cell_type": "code",
   "execution_count": 79,
   "metadata": {},
   "outputs": [
    {
     "name": "stdout",
     "output_type": "stream",
     "text": [
      "WHAT IS EARS?The Easy Approach to Requirements Syntax (EARS) is a mechanism to gently constrain textual requirements.\n",
      "The EARS patterns provide structured guidance that enable authors to write high quality textual requirements.\n",
      "There is a set syntax (structure), with an underlying ruleset.\n",
      "A small number of keywords are used to denote the different clauses of an EARS requirement.\n",
      "The clauses are always in the same order, following temporal logic.\n",
      "The syntax and the keywords closely match common usage of English and are therefore intuitive.\n",
      "HOW WAS EARS DEVELOPED?Mav and colleagues at Rolls-Royce PLC developed EARS whilst analysing the airworthiness regulations for a jet engine’s control system.\n",
      "The regulations contained high level objectives, a mixture of implicit and explicit requirements at different levels, lists, guidelines and supporting information.\n",
      "\n",
      "In the process of extracting and simplifying the requirements, Mav noticed that the requirements all followed a similar structure.\n",
      "He found that requirements were easiest to read when the clauses always appeared in the same order.\n",
      "These patterns were refined and evolved to create EARS.\n",
      "\n",
      "\n",
      "The notation was first published in 2009 and has been adopted by many organisations across the world.\n",
      "\n",
      "\n",
      "WHY USE EARS?\n",
      "\n",
      "System requirements are usually written in unconstrained natural language (NL), which is inherently imprecise.\n",
      "Often, requirements authors are not trained in how to write requirements.\n",
      "During system development, requirements problems propagate to lower levels.\n",
      "This creates unnecessary volatility and risk, impacting programme schedule and cost.\n",
      "\n",
      "\n",
      "EARS reduces or even eliminates common problems found in natural language requirements.\n",
      "It is especially effective for requirements authors who must write requirements in English, but whose first language is not English.\n",
      "EARS has proved popular with practitioners because it is lightweight, there is little training overhead, no specialist tool is necessary, and the resultant requirements are easy to read.\n",
      "\n",
      "\n",
      "\n",
      "WHO USES EARS?\n",
      "\n",
      "EARS is used worldwide by large and small organisations in different domains.\n",
      "These include blue chip companies such as Airbus, Bosch,  Dyson, Honeywell, Intel, NASA, Rolls-Royce and Siemens.\n",
      "\n",
      "\n",
      "The notation is taught at universities around the world including in China, France, Germany, Sweden, UK and USA.\n",
      "\n",
      "\n",
      "THE EARS PATTERNS\n",
      "Generic EARS syntax\n",
      "The clauses of a requirement written in EARS always appear in the same order.\n",
      "The basic structure of an EARS requirement is:\n",
      "\n",
      "While <optional pre-condition>, when <optional trigger>, the <system name> shall <system response>\n",
      "\n",
      "\n",
      "The EARS ruleset states that a requirement must have: Zero or many preconditions; Zero or one trigger; One system name; One or many system responses.\n",
      "\n",
      "\n",
      "The application of the EARS notation produces requirements in a small number of patterns, depending on the clauses that are used.\n",
      "The patterns are illustrated below.\n",
      "\n",
      "\n",
      "Ubiquitous requirements\n",
      "Ubiquitous requirements are always active (so there is no EARS keyword)\n",
      "\n",
      "\n",
      "The <system name> shall <system response>\n",
      "\n",
      "Example: The mobile phone shall have a mass of less than XX grams.\n",
      "\n",
      "\n",
      "State driven requirements\n",
      "State driven requirements are active as long as the specified state remains true and are denoted by the keyword While.\n",
      "\n",
      "\n",
      "While <precondition(s)>, the <system name> shall <system response>\n",
      "\n",
      "Example: While there is no card in the ATM, the ATM shall display “insert card to begin”.\n",
      "\n",
      "\n",
      "Event driven requirements\n",
      "Event driven requirements specify how a system must respond when a triggering event occurs and are denoted by the keyword When.\n",
      "\n",
      "\n",
      "When <trigger>, the <system name> shall <system response>\n",
      "Example: When “mute” is selected, the laptop shall suppress all audio output.\n",
      "\n",
      "Optional feature requirements\n",
      "Optional feature requirements apply in products or systems that include the specified feature and are denoted by the keyword Where.\n",
      "\n",
      "Where <feature is included>, the <system name> shall <system response>\n",
      "Example: Where the car has a sunroof, the car shall have a sunroof control panel on the driver door.\n",
      "\n",
      "Unwanted behaviour requirements\n",
      "Unwanted behaviour requirements are used to specify the required system response to undesired situations and are denoted by the keywords\n",
      "If and Then.\n",
      "\n",
      "If <trigger>, then the <system name> shall <system response>\n",
      "\n",
      "Example: If an invalid credit card number is entered, then the website shall display “please re-enter credit card details”.\n",
      "\n",
      "\n",
      "Complex requirements\n",
      "The simple building blocks of the EARS patterns described above can be combined to specify requirements for richer system behaviour.\n",
      "Requirements that include more than one EARS keyword are called Complex requirements.\n",
      "\n",
      "\n",
      "While <precondition(s)>, When <trigger>, the <system name> shall <system response>\n",
      "\n",
      "Example: While the aircraft is on ground, when reverse thrust is commanded, the engine control system shall enable reverse thrust.\n",
      "\n",
      "\n",
      "Complex requirements for unwanted behaviour also include the If-Then keywords.\n"
     ]
    }
   ],
   "source": [
    "for sent in doc.sents:\n",
    "    print(sent)"
   ]
  },
  {
   "cell_type": "markdown",
   "metadata": {},
   "source": [
    "Token Attributes"
   ]
  },
  {
   "cell_type": "code",
   "execution_count": 81,
   "metadata": {},
   "outputs": [
    {
     "data": {
      "text/plain": [
       "WHAT IS EARS?The Easy Approach to Requirements Syntax (EARS) is a mechanism to gently constrain textual requirements."
      ]
     },
     "execution_count": 81,
     "metadata": {},
     "output_type": "execute_result"
    }
   ],
   "source": [
    "sentence_one = list(doc.sents)[0]\n",
    "sentence_one"
   ]
  },
  {
   "cell_type": "code",
   "execution_count": 82,
   "metadata": {},
   "outputs": [
    {
     "name": "stdout",
     "output_type": "stream",
     "text": [
      "WHAT\n",
      "IS\n",
      "EARS?The\n",
      "Easy\n",
      "Approach\n",
      "to\n",
      "Requirements\n",
      "Syntax\n",
      "(\n",
      "EARS\n",
      ")\n",
      "is\n",
      "a\n",
      "mechanism\n",
      "to\n",
      "gently\n",
      "constrain\n",
      "textual\n",
      "requirements\n",
      ".\n"
     ]
    }
   ],
   "source": [
    "for token in sentence_one:\n",
    "    print(token)"
   ]
  },
  {
   "cell_type": "code",
   "execution_count": 86,
   "metadata": {},
   "outputs": [
    {
     "data": {
      "text/plain": [
       "Approach"
      ]
     },
     "execution_count": 86,
     "metadata": {},
     "output_type": "execute_result"
    }
   ],
   "source": [
    "token4 = sentence_one[4]\n",
    "token4"
   ]
  },
  {
   "cell_type": "code",
   "execution_count": null,
   "metadata": {},
   "outputs": [],
   "source": []
  }
 ],
 "metadata": {
  "kernelspec": {
   "display_name": "Python 3",
   "language": "python",
   "name": "python3"
  },
  "language_info": {
   "codemirror_mode": {
    "name": "ipython",
    "version": 3
   },
   "file_extension": ".py",
   "mimetype": "text/x-python",
   "name": "python",
   "nbconvert_exporter": "python",
   "pygments_lexer": "ipython3",
   "version": "3.10.7"
  },
  "orig_nbformat": 4
 },
 "nbformat": 4,
 "nbformat_minor": 2
}
